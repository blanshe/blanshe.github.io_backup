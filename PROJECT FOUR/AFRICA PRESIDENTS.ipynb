{
 "cells": [
  {
   "cell_type": "code",
   "execution_count": 1,
   "metadata": {},
   "outputs": [],
   "source": [
    "import pandas as pd\n",
    "import matplotlib\n",
    "import matplotlib.pyplot as plt\n",
    "import seaborn as sns\n",
    "from pywaffle import Waffle\n",
    "matplotlib.rcParams['pdf.fonttype'] = 42\n",
    "\n",
    "%matplotlib inline\n"
   ]
  },
  {
   "cell_type": "code",
   "execution_count": 2,
   "metadata": {},
   "outputs": [
    {
     "name": "stdout",
     "output_type": "stream",
     "text": [
      "AFRICA PRESIDENTS.ipynb\r\n",
      "Biya.jpg\r\n",
      "Denis-Sassou-Nguesso.jpg\r\n",
      "Longest.csv\r\n",
      "Ngue.jpg\r\n",
      "Nguema.jpg\r\n",
      "Nguema.png\r\n",
      "Teodoro_Obiang_Nguema_Mbasogo_at_the_White_House_in_2014.jpg\r\n",
      "afewerki.jpg\r\n",
      "best-presidents.csv\r\n",
      "darkorange.pdf\r\n",
      "djibouti_guelleh.jpg\r\n",
      "idriss-deby.jpg\r\n",
      "kagame.png\r\n",
      "longest.pdf\r\n",
      "mmm.jpg\r\n",
      "pk.jpg\r\n",
      "yoweri-museveni.jpg\r\n"
     ]
    }
   ],
   "source": [
    "!ls"
   ]
  },
  {
   "cell_type": "code",
   "execution_count": 3,
   "metadata": {},
   "outputs": [
    {
     "data": {
      "text/html": [
       "<div>\n",
       "<style scoped>\n",
       "    .dataframe tbody tr th:only-of-type {\n",
       "        vertical-align: middle;\n",
       "    }\n",
       "\n",
       "    .dataframe tbody tr th {\n",
       "        vertical-align: top;\n",
       "    }\n",
       "\n",
       "    .dataframe thead th {\n",
       "        text-align: right;\n",
       "    }\n",
       "</style>\n",
       "<table border=\"1\" class=\"dataframe\">\n",
       "  <thead>\n",
       "    <tr style=\"text-align: right;\">\n",
       "      <th></th>\n",
       "      <th>Name</th>\n",
       "      <th>Start year</th>\n",
       "      <th>End year</th>\n",
       "      <th>Tenure</th>\n",
       "      <th>Country</th>\n",
       "    </tr>\n",
       "  </thead>\n",
       "  <tbody>\n",
       "    <tr>\n",
       "      <th>0</th>\n",
       "      <td>Paul Biya</td>\n",
       "      <td>1975</td>\n",
       "      <td>2019</td>\n",
       "      <td>44</td>\n",
       "      <td>Cameroon</td>\n",
       "    </tr>\n",
       "    <tr>\n",
       "      <th>1</th>\n",
       "      <td>Teodoro Obiang Nguema</td>\n",
       "      <td>1979</td>\n",
       "      <td>2019</td>\n",
       "      <td>40</td>\n",
       "      <td>Equatorial Guinea</td>\n",
       "    </tr>\n",
       "    <tr>\n",
       "      <th>2</th>\n",
       "      <td>Denis Sassou Nguesso</td>\n",
       "      <td>1979</td>\n",
       "      <td>1992</td>\n",
       "      <td>13</td>\n",
       "      <td>Republic of Congo</td>\n",
       "    </tr>\n",
       "    <tr>\n",
       "      <th>3</th>\n",
       "      <td>Denis Sassou Nguesso</td>\n",
       "      <td>1997</td>\n",
       "      <td>2019</td>\n",
       "      <td>22</td>\n",
       "      <td>Republic of Congo</td>\n",
       "    </tr>\n",
       "    <tr>\n",
       "      <th>4</th>\n",
       "      <td>Yoweri Kaguta Museveni</td>\n",
       "      <td>1986</td>\n",
       "      <td>2019</td>\n",
       "      <td>33</td>\n",
       "      <td>Uganda</td>\n",
       "    </tr>\n",
       "    <tr>\n",
       "      <th>5</th>\n",
       "      <td>Idriss Deby</td>\n",
       "      <td>1990</td>\n",
       "      <td>2019</td>\n",
       "      <td>29</td>\n",
       "      <td>Chad</td>\n",
       "    </tr>\n",
       "    <tr>\n",
       "      <th>6</th>\n",
       "      <td>Isaias Afewerki</td>\n",
       "      <td>1993</td>\n",
       "      <td>2019</td>\n",
       "      <td>26</td>\n",
       "      <td>Eritrea</td>\n",
       "    </tr>\n",
       "    <tr>\n",
       "      <th>7</th>\n",
       "      <td>Ismaïl Omar Guelleh</td>\n",
       "      <td>1999</td>\n",
       "      <td>2019</td>\n",
       "      <td>20</td>\n",
       "      <td>Djibouti</td>\n",
       "    </tr>\n",
       "    <tr>\n",
       "      <th>8</th>\n",
       "      <td>Pual Kagame</td>\n",
       "      <td>2000</td>\n",
       "      <td>2019</td>\n",
       "      <td>19</td>\n",
       "      <td>Rwanda</td>\n",
       "    </tr>\n",
       "  </tbody>\n",
       "</table>\n",
       "</div>"
      ],
      "text/plain": [
       "                     Name  Start year  End year  Tenure            Country\n",
       "0              Paul Biya         1975      2019      44           Cameroon\n",
       "1   Teodoro Obiang Nguema        1979      2019      40  Equatorial Guinea\n",
       "2   Denis Sassou Nguesso         1979      1992      13  Republic of Congo\n",
       "3   Denis Sassou Nguesso         1997      2019      22  Republic of Congo\n",
       "4  Yoweri Kaguta Museveni        1986      2019      33             Uganda\n",
       "5             Idriss Deby        1990      2019      29               Chad\n",
       "6         Isaias Afewerki        1993      2019      26            Eritrea\n",
       "7     Ismaïl Omar Guelleh        1999      2019      20           Djibouti\n",
       "8             Pual Kagame        2000      2019      19             Rwanda"
      ]
     },
     "execution_count": 3,
     "metadata": {},
     "output_type": "execute_result"
    }
   ],
   "source": [
    "longest = pd.read_csv('Longest.csv')\n",
    "longest"
   ]
  },
  {
   "cell_type": "code",
   "execution_count": 4,
   "metadata": {},
   "outputs": [
    {
     "data": {
      "image/png": "[encoded data removed]",
      "text/plain": [
       "<Figure size 504x576 with 1 Axes>"
      ]
     },
     "metadata": {
      "needs_background": "light"
     },
     "output_type": "display_data"
    }
   ],
   "source": [
    "longest.plot(y='Tenure',\n",
    "             x='Name', \n",
    "             kind='barh',\n",
    "             figsize=(7,8),\n",
    "             width=0.4,\n",
    "            legend=False,\n",
    "            color='darkorange',\n",
    "            title='Longest serving presidents in Africa')\n",
    "plt.savefig('longest.pdf')"
   ]
  },
  {
   "cell_type": "code",
   "execution_count": 6,
   "metadata": {},
   "outputs": [
    {
     "data": {
      "text/plain": [
       "246"
      ]
     },
     "execution_count": 6,
     "metadata": {},
     "output_type": "execute_result"
    }
   ],
   "source": [
    "longest.Tenure.sum()"
   ]
  },
  {
   "cell_type": "code",
   "execution_count": null,
   "metadata": {},
   "outputs": [],
   "source": []
  },
  {
   "cell_type": "code",
   "execution_count": 23,
   "metadata": {},
   "outputs": [
    {
     "data": {
      "text/html": [
       "<div>\n",
       "<style scoped>\n",
       "    .dataframe tbody tr th:only-of-type {\n",
       "        vertical-align: middle;\n",
       "    }\n",
       "\n",
       "    .dataframe tbody tr th {\n",
       "        vertical-align: top;\n",
       "    }\n",
       "\n",
       "    .dataframe thead th {\n",
       "        text-align: right;\n",
       "    }\n",
       "</style>\n",
       "<table border=\"1\" class=\"dataframe\">\n",
       "  <thead>\n",
       "    <tr style=\"text-align: right;\">\n",
       "      <th></th>\n",
       "      <th>Name</th>\n",
       "      <th>Start Year</th>\n",
       "      <th>End Year</th>\n",
       "      <th>Tenure</th>\n",
       "      <th>Country</th>\n",
       "    </tr>\n",
       "  </thead>\n",
       "  <tbody>\n",
       "    <tr>\n",
       "      <th>0</th>\n",
       "      <td>Nelson Mandela</td>\n",
       "      <td>1994</td>\n",
       "      <td>1999</td>\n",
       "      <td>5</td>\n",
       "      <td>South Africa</td>\n",
       "    </tr>\n",
       "    <tr>\n",
       "      <th>1</th>\n",
       "      <td>Haile Silassie</td>\n",
       "      <td>1930</td>\n",
       "      <td>1974</td>\n",
       "      <td>44</td>\n",
       "      <td>Ethiopia</td>\n",
       "    </tr>\n",
       "    <tr>\n",
       "      <th>2</th>\n",
       "      <td>Kwameh Nkurumah</td>\n",
       "      <td>1957</td>\n",
       "      <td>1966</td>\n",
       "      <td>9</td>\n",
       "      <td>Ghana</td>\n",
       "    </tr>\n",
       "    <tr>\n",
       "      <th>3</th>\n",
       "      <td>Julius Nyerere</td>\n",
       "      <td>1961</td>\n",
       "      <td>1985</td>\n",
       "      <td>24</td>\n",
       "      <td>Tanzania</td>\n",
       "    </tr>\n",
       "    <tr>\n",
       "      <th>4</th>\n",
       "      <td>Thomas Sankara</td>\n",
       "      <td>1983</td>\n",
       "      <td>1987</td>\n",
       "      <td>4</td>\n",
       "      <td>Burkina Faso</td>\n",
       "    </tr>\n",
       "  </tbody>\n",
       "</table>\n",
       "</div>"
      ],
      "text/plain": [
       "               Name  Start Year  End Year  Tenure       Country\n",
       "0    Nelson Mandela        1994      1999       5  South Africa\n",
       "1   Haile Silassie         1930      1974      44      Ethiopia\n",
       "2   Kwameh Nkurumah        1957      1966       9         Ghana\n",
       "3    Julius Nyerere        1961      1985      24      Tanzania\n",
       "4  Thomas Sankara          1983      1987       4  Burkina Faso"
      ]
     },
     "execution_count": 23,
     "metadata": {},
     "output_type": "execute_result"
    }
   ],
   "source": [
    "best = pd.read_csv('best-presidents.csv')\n",
    "best"
   ]
  },
  {
   "cell_type": "code",
   "execution_count": 24,
   "metadata": {},
   "outputs": [
    {
     "data": {
      "image/png": "[encoded data removed]",
      "text/plain": [
       "<Figure size 432x288 with 1 Axes>"
      ]
     },
     "metadata": {
      "needs_background": "light"
     },
     "output_type": "display_data"
    }
   ],
   "source": [
    "best.plot(x='Name',\n",
    "               y='Tenure',\n",
    "               kind='barh',\n",
    "               legend=False)\n",
    "plt.savefig('best.pdf')"
   ]
  },
  {
   "cell_type": "code",
   "execution_count": 19,
   "metadata": {},
   "outputs": [
    {
     "data": {
      "text/html": [
       "<div>\n",
       "<style scoped>\n",
       "    .dataframe tbody tr th:only-of-type {\n",
       "        vertical-align: middle;\n",
       "    }\n",
       "\n",
       "    .dataframe tbody tr th {\n",
       "        vertical-align: top;\n",
       "    }\n",
       "\n",
       "    .dataframe thead th {\n",
       "        text-align: right;\n",
       "    }\n",
       "</style>\n",
       "<table border=\"1\" class=\"dataframe\">\n",
       "  <thead>\n",
       "    <tr style=\"text-align: right;\">\n",
       "      <th></th>\n",
       "      <th>Name</th>\n",
       "      <th>Start Year</th>\n",
       "      <th>End Year</th>\n",
       "      <th>Tenure</th>\n",
       "      <th>Country</th>\n",
       "    </tr>\n",
       "  </thead>\n",
       "  <tbody>\n",
       "    <tr>\n",
       "      <th>4</th>\n",
       "      <td>Thomas Sankara</td>\n",
       "      <td>1983</td>\n",
       "      <td>1987</td>\n",
       "      <td>4</td>\n",
       "      <td>Burkina Faso</td>\n",
       "    </tr>\n",
       "    <tr>\n",
       "      <th>0</th>\n",
       "      <td>Nelson Mandela</td>\n",
       "      <td>1994</td>\n",
       "      <td>1999</td>\n",
       "      <td>5</td>\n",
       "      <td>South Africa</td>\n",
       "    </tr>\n",
       "    <tr>\n",
       "      <th>2</th>\n",
       "      <td>Kwameh Nkurumah</td>\n",
       "      <td>1957</td>\n",
       "      <td>1966</td>\n",
       "      <td>9</td>\n",
       "      <td>Ghana</td>\n",
       "    </tr>\n",
       "    <tr>\n",
       "      <th>3</th>\n",
       "      <td>Julius Nyerere</td>\n",
       "      <td>1961</td>\n",
       "      <td>1985</td>\n",
       "      <td>24</td>\n",
       "      <td>Tanzania</td>\n",
       "    </tr>\n",
       "    <tr>\n",
       "      <th>1</th>\n",
       "      <td>Haile Silassie</td>\n",
       "      <td>1930</td>\n",
       "      <td>1974</td>\n",
       "      <td>44</td>\n",
       "      <td>Ethiopia</td>\n",
       "    </tr>\n",
       "  </tbody>\n",
       "</table>\n",
       "</div>"
      ],
      "text/plain": [
       "               Name  Start Year  End Year  Tenure       Country\n",
       "4  Thomas Sankara          1983      1987       4  Burkina Faso\n",
       "0    Nelson Mandela        1994      1999       5  South Africa\n",
       "2   Kwameh Nkurumah        1957      1966       9         Ghana\n",
       "3    Julius Nyerere        1961      1985      24      Tanzania\n",
       "1   Haile Silassie         1930      1974      44      Ethiopia"
      ]
     },
     "execution_count": 19,
     "metadata": {},
     "output_type": "execute_result"
    }
   ],
   "source": [
    "best_final"
   ]
  },
  {
   "cell_type": "code",
   "execution_count": 22,
   "metadata": {},
   "outputs": [
    {
     "data": {
      "image/png": "[encoded data removed]",
      "text/plain": [
       "<Figure size 432x288 with 1 Axes>"
      ]
     },
     "metadata": {
      "needs_background": "light"
     },
     "output_type": "display_data"
    }
   ],
   "source": [
    "best_final.plot(x='Name',\n",
    "               y='Tenure',\n",
    "               kind='barh',\n",
    "               legend=False)\n",
    "plt.savefig('best.pdf')"
   ]
  },
  {
   "cell_type": "code",
   "execution_count": null,
   "metadata": {},
   "outputs": [],
   "source": []
  }
 ],
 "metadata": {
  "kernelspec": {
   "display_name": "Python 3",
   "language": "python",
   "name": "python3"
  },
  "language_info": {
   "codemirror_mode": {
    "name": "ipython",
    "version": 3
   },
   "file_extension": ".py",
   "mimetype": "text/x-python",
   "name": "python",
   "nbconvert_exporter": "python",
   "pygments_lexer": "ipython3",
   "version": "3.7.1"
  }
 },
 "nbformat": 4,
 "nbformat_minor": 2
}
